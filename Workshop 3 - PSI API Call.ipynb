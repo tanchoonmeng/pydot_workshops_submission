{
 "cells": [
  {
   "cell_type": "code",
   "execution_count": 1,
   "metadata": {},
   "outputs": [
    {
     "data": {
      "text/html": [
       "<style>.container { width:100% !important; }</style>"
      ],
      "text/plain": [
       "<IPython.core.display.HTML object>"
      ]
     },
     "metadata": {},
     "output_type": "display_data"
    }
   ],
   "source": [
    "from IPython.core.display import display, HTML\n",
    "display(HTML(\"<style>.container { width:100% !important; }</style>\"))"
   ]
  },
  {
   "cell_type": "code",
   "execution_count": 2,
   "metadata": {},
   "outputs": [
    {
     "data": {
      "application/javascript": [
       "IPython.OutputArea.prototype._should_scroll = function(lines) {\n",
       "    return false;\n",
       "}\n"
      ],
      "text/plain": [
       "<IPython.core.display.Javascript object>"
      ]
     },
     "metadata": {},
     "output_type": "display_data"
    }
   ],
   "source": [
    "%%javascript\n",
    "IPython.OutputArea.prototype._should_scroll = function(lines) {\n",
    "    return false;\n",
    "}"
   ]
  },
  {
   "cell_type": "markdown",
   "metadata": {},
   "source": [
    "## Realtime PSI Index"
   ]
  },
  {
   "cell_type": "code",
   "execution_count": 18,
   "metadata": {},
   "outputs": [
    {
     "name": "stdout",
     "output_type": "stream",
     "text": [
      "url = https://api.data.gov.sg/v1/environment/psi?datetime=2019-58-19T19:58:06\n",
      "\n",
      "\n",
      "As at 2019-58-19T19:58:06, PSI is:\n",
      "\twest           : 100\n",
      "\tnational       : 107\n",
      "\teast           : 101\n",
      "\tcentral        : 95\n",
      "\tsouth          : 107\n",
      "\tnorth          : 95\n"
     ]
    }
   ],
   "source": [
    "import requests, json\n",
    "from pprint import pprint\n",
    "from datetime import datetime\n",
    "\n",
    "\n",
    "dt = datetime.now().strftime(\"%Y-%M-%dT%H:%M:%S\")\n",
    "\n",
    "# url = f\"https://api.data.gov.sg/v1/environment/psi?date={date}\"\n",
    "url = f\"https://api.data.gov.sg/v1/environment/psi?datetime={dt}\"\n",
    "\n",
    "print(f\"url = {url}\")\n",
    "\n",
    "import requests\n",
    "resp = requests.get(url)\n",
    "\n",
    "psi_dict = resp.json()\n",
    "\n",
    "print()\n",
    "# pprint(psi_dict)\n",
    "\n",
    "print()\n",
    "print(f\"As at {dt}, PSI is:\")\n",
    "region_dict = psi_dict[\"items\"][0][\"readings\"][\"psi_twenty_four_hourly\"]\n",
    "\n",
    "for region, psi in region_dict.items():\n",
    "    print(f\"\\t{region:<15}: {psi}\")\n",
    "\n"
   ]
  },
  {
   "cell_type": "code",
   "execution_count": null,
   "metadata": {},
   "outputs": [],
   "source": []
  }
 ],
 "metadata": {
  "kernelspec": {
   "display_name": "Python 3",
   "language": "python",
   "name": "python3"
  },
  "language_info": {
   "codemirror_mode": {
    "name": "ipython",
    "version": 3
   },
   "file_extension": ".py",
   "mimetype": "text/x-python",
   "name": "python",
   "nbconvert_exporter": "python",
   "pygments_lexer": "ipython3",
   "version": "3.7.4"
  }
 },
 "nbformat": 4,
 "nbformat_minor": 2
}
